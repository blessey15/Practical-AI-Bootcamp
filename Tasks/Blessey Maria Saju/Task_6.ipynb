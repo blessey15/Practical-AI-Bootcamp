{
  "nbformat": 4,
  "nbformat_minor": 0,
  "metadata": {
    "colab": {
      "name": "Task-6.ipynb",
      "provenance": [],
      "collapsed_sections": []
    },
    "kernelspec": {
      "name": "python3",
      "display_name": "Python 3"
    },
    "language_info": {
      "name": "python"
    }
  },
  "cells": [
    {
      "cell_type": "code",
      "metadata": {
        "colab": {
          "base_uri": "https://localhost:8080/"
        },
        "id": "w9mRkupa2MLp",
        "outputId": "0d21a1f9-f55d-4aee-852d-0869349e9909"
      },
      "source": [
        "# TensorFlow and tf.keras\n",
        "import tensorflow as tf\n",
        "from tensorflow.keras.applications.vgg16 import VGG16\n",
        "from tensorflow.keras.applications.resnet50 import ResNet50\n",
        "from tensorflow.keras.applications import MobileNet\n",
        "from tensorflow.keras.layers import GlobalAveragePooling2D, Dense\n",
        "from tensorflow.keras.layers import BatchNormalization, Dropout\n",
        "from tensorflow.keras.models import Model\n",
        "import numpy as np\n",
        "import matplotlib.pyplot as plt\n",
        "\n",
        "print(tf.__version__)"
      ],
      "execution_count": 106,
      "outputs": [
        {
          "output_type": "stream",
          "name": "stdout",
          "text": [
            "2.6.0\n"
          ]
        }
      ]
    },
    {
      "cell_type": "code",
      "metadata": {
        "id": "FykzR9Ob2PC9"
      },
      "source": [
        "from tensorflow.keras.datasets import cifar10\n",
        "(train_images, train_labels), (test_images, test_labels) = cifar10.load_data()"
      ],
      "execution_count": 87,
      "outputs": []
    },
    {
      "cell_type": "code",
      "metadata": {
        "id": "yBxGvcnY2fK3"
      },
      "source": [
        "class_names =['Airplane','Automobile','Bird','Cat','Deer','Dog','Frog','Horse','Ship','Truck']"
      ],
      "execution_count": 88,
      "outputs": []
    },
    {
      "cell_type": "code",
      "metadata": {
        "colab": {
          "base_uri": "https://localhost:8080/"
        },
        "id": "_WGHa72o2k_U",
        "outputId": "f897927a-d94b-4d46-b07c-004621899740"
      },
      "source": [
        "train_images.shape"
      ],
      "execution_count": 89,
      "outputs": [
        {
          "output_type": "execute_result",
          "data": {
            "text/plain": [
              "(50000, 32, 32, 3)"
            ]
          },
          "metadata": {},
          "execution_count": 89
        }
      ]
    },
    {
      "cell_type": "code",
      "metadata": {
        "colab": {
          "base_uri": "https://localhost:8080/"
        },
        "id": "LOalorLv2ut1",
        "outputId": "97e60c64-6939-4892-e50f-d4dd770796a2"
      },
      "source": [
        "len(train_labels)"
      ],
      "execution_count": 90,
      "outputs": [
        {
          "output_type": "execute_result",
          "data": {
            "text/plain": [
              "50000"
            ]
          },
          "metadata": {},
          "execution_count": 90
        }
      ]
    },
    {
      "cell_type": "code",
      "metadata": {
        "colab": {
          "base_uri": "https://localhost:8080/"
        },
        "id": "Z3bRf7RL28Bq",
        "outputId": "cf50ec4c-5b87-41c9-8625-e08e0356fbd5"
      },
      "source": [
        "train_labels"
      ],
      "execution_count": 91,
      "outputs": [
        {
          "output_type": "execute_result",
          "data": {
            "text/plain": [
              "array([[6],\n",
              "       [9],\n",
              "       [9],\n",
              "       ...,\n",
              "       [9],\n",
              "       [1],\n",
              "       [1]], dtype=uint8)"
            ]
          },
          "metadata": {},
          "execution_count": 91
        }
      ]
    },
    {
      "cell_type": "code",
      "metadata": {
        "colab": {
          "base_uri": "https://localhost:8080/"
        },
        "id": "5qjiLWY42-hZ",
        "outputId": "261762bb-a630-4275-c385-92dba5e6758f"
      },
      "source": [
        "test_images.shape"
      ],
      "execution_count": 92,
      "outputs": [
        {
          "output_type": "execute_result",
          "data": {
            "text/plain": [
              "(10000, 32, 32, 3)"
            ]
          },
          "metadata": {},
          "execution_count": 92
        }
      ]
    },
    {
      "cell_type": "code",
      "metadata": {
        "colab": {
          "base_uri": "https://localhost:8080/"
        },
        "id": "Bh6k2lhB3Avi",
        "outputId": "f27eb389-2524-4753-e0a2-543bafb93183"
      },
      "source": [
        "len(test_labels)"
      ],
      "execution_count": 93,
      "outputs": [
        {
          "output_type": "execute_result",
          "data": {
            "text/plain": [
              "10000"
            ]
          },
          "metadata": {},
          "execution_count": 93
        }
      ]
    },
    {
      "cell_type": "code",
      "metadata": {
        "colab": {
          "base_uri": "https://localhost:8080/",
          "height": 266
        },
        "id": "H6uPnwhP3Dp4",
        "outputId": "c845ad5e-1d0e-4a89-f206-2dc8a949bc37"
      },
      "source": [
        "plt.figure()\n",
        "plt.imshow(train_images[0])\n",
        "plt.colorbar()\n",
        "plt.grid(False)\n",
        "plt.show()"
      ],
      "execution_count": 94,
      "outputs": [
        {
          "output_type": "display_data",
          "data": {
            "image/png": "[encoded data removed]",
            "text/plain": [
              "<Figure size 432x288 with 2 Axes>"
            ]
          },
          "metadata": {
            "needs_background": "light"
          }
        }
      ]
    },
    {
      "cell_type": "code",
      "metadata": {
        "id": "XK5RN82q3HgU"
      },
      "source": [
        "train_images = train_images / 255.0\n",
        "\n",
        "test_images = test_images / 255.0"
      ],
      "execution_count": 95,
      "outputs": []
    },
    {
      "cell_type": "markdown",
      "metadata": {
        "id": "23v9PcORcni3"
      },
      "source": [
        "## ResNet50"
      ]
    },
    {
      "cell_type": "code",
      "metadata": {
        "id": "r2PW0mxPUGiW"
      },
      "source": [
        "res = ResNet50(weights ='imagenet', include_top = False, \n",
        "               input_shape =(32, 32, 3)) \n",
        "res.trainable=False\n",
        "\n",
        "x = res.output\n",
        "\n",
        "x = GlobalAveragePooling2D()(x)\n",
        "\n",
        "x = BatchNormalization()(x)\n",
        "\n",
        "x = Dropout(0.5)(x) \n",
        "x = Dense(512, activation ='relu')(x)\n",
        "x = BatchNormalization()(x)\n",
        "x = Dropout(0.5)(x)\n",
        "\n",
        "\n",
        "x = Dense(10, activation ='softmax')(x)\n",
        "\n",
        "model = Model(res.input, x)\n",
        "\n",
        "model.compile(optimizer ='Adam', \n",
        "              loss ='sparse_categorical_crossentropy', \n",
        "              metrics =['sparse_categorical_accuracy']) \n"
      ],
      "execution_count": 102,
      "outputs": []
    },
    {
      "cell_type": "code",
      "metadata": {
        "id": "DqQzS0ApUaFl"
      },
      "source": [
        "model.fit(train_images,train_labels,epochs=7,validation_data=(test_images,test_labels))\n",
        "model.evaluate(test_images,test_labels)"
      ],
      "execution_count": null,
      "outputs": []
    },
    {
      "cell_type": "markdown",
      "metadata": {
        "id": "0GufFA-2dWrd"
      },
      "source": [
        "## MobileNet"
      ]
    },
    {
      "cell_type": "code",
      "metadata": {
        "colab": {
          "base_uri": "https://localhost:8080/"
        },
        "id": "YF7VmZX_cth_",
        "outputId": "37c31b45-9dbe-4e37-f234-a868f560e4c6"
      },
      "source": [
        "mob = MobileNet(weights ='imagenet', include_top = False, \n",
        "               input_shape =(32, 32, 3)) \n",
        "mob.trainable=False\n",
        "\n",
        "x = mob.output\n",
        "\n",
        "x = GlobalAveragePooling2D()(x)\n",
        "\n",
        "x = BatchNormalization()(x)\n",
        "\n",
        "x = Dropout(0.5)(x) \n",
        "x = Dense(512, activation ='relu')(x)\n",
        "x = BatchNormalization()(x)\n",
        "x = Dropout(0.5)(x)\n",
        "\n",
        "\n",
        "x = Dense(10, activation ='softmax')(x)\n",
        "\n",
        "model = Model(mob.input, x)\n",
        "\n",
        "model.compile(optimizer ='Adam', \n",
        "              loss ='sparse_categorical_crossentropy', \n",
        "              metrics =['sparse_categorical_accuracy'])"
      ],
      "execution_count": 109,
      "outputs": [
        {
          "output_type": "stream",
          "name": "stdout",
          "text": [
            "WARNING:tensorflow:`input_shape` is undefined or non-square, or `rows` is not in [128, 160, 192, 224]. Weights for input shape (224, 224) will be loaded as the default.\n"
          ]
        }
      ]
    },
    {
      "cell_type": "code",
      "metadata": {
        "id": "mQAL-Nm4dQ7b"
      },
      "source": [
        "model.fit(train_images,train_labels,epochs=7,validation_data=(test_images,test_labels))\n",
        "model.evaluate(test_images,test_labels)"
      ],
      "execution_count": null,
      "outputs": []
    },
    {
      "cell_type": "markdown",
      "metadata": {
        "id": "uk-r88YJdT3P"
      },
      "source": [
        "## VGG16"
      ]
    },
    {
      "cell_type": "code",
      "metadata": {
        "id": "QqyL5KQOdiYo"
      },
      "source": [
        "vgg = VGG16(weights ='imagenet', include_top = False, \n",
        "               input_shape =(32, 32, 3)) \n",
        "vgg.trainable=False\n",
        "\n",
        "x = vgg.output\n",
        "\n",
        "x = GlobalAveragePooling2D()(x)\n",
        "\n",
        "x = BatchNormalization()(x)\n",
        "\n",
        "x = Dropout(0.5)(x) \n",
        "x = Dense(512, activation ='relu')(x)\n",
        "x = BatchNormalization()(x)\n",
        "x = Dropout(0.5)(x)\n",
        "\n",
        "\n",
        "x = Dense(10, activation ='softmax')(x)\n",
        "\n",
        "model = Model(vgg.input, x)\n",
        "\n",
        "model.compile(optimizer ='Adam', \n",
        "              loss ='sparse_categorical_crossentropy', \n",
        "              metrics =['sparse_categorical_accuracy'])"
      ],
      "execution_count": 111,
      "outputs": []
    },
    {
      "cell_type": "code",
      "metadata": {
        "id": "Yg2SqDTIdkuW"
      },
      "source": [
        "model.fit(train_images,train_labels,epochs=7,validation_data=(test_images,test_labels))\n",
        "model.evaluate(test_images,test_labels)"
      ],
      "execution_count": null,
      "outputs": []
    }
  ]
}